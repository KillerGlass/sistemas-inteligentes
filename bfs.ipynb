{
 "cells": [
  {
   "cell_type": "markdown",
   "metadata": {},
   "source": [
    "## Busca em Largura"
   ]
  },
  {
   "cell_type": "code",
   "execution_count": null,
   "metadata": {},
   "outputs": [],
   "source": [
    "from collections import deque\n",
    "\n",
    "def bfs(graph, start, end):\n",
    "    # Inicializa uma fila para a busca em largura\n",
    "    queue = deque()\n",
    "    # Inicializa um conjunto para manter controle dos nós visitados\n",
    "    visited = set()\n",
    "    # Inicializa um dicionário para rastrear o caminho percorrido\n",
    "    parent = {}\n",
    "    \n",
    "    # Adiciona o ponto de início à fila\n",
    "    queue.append(start)\n",
    "    # Marca o ponto de início como visitado\n",
    "    visited.add(start)\n",
    "    \n",
    "    # Enquanto a fila não estiver vazia\n",
    "    while queue:\n",
    "        # Remove o primeiro elemento da fila\n",
    "        current_node = queue.popleft()\n",
    "        \n",
    "        # Verifica se o nó atual é o nó final\n",
    "        if current_node == end:\n",
    "            # Se for o nó final, reconstrói o caminho percorrido\n",
    "            path = []\n",
    "            while current_node != start:\n",
    "                path.append(current_node)\n",
    "                current_node = parent[current_node]\n",
    "            path.append(start)\n",
    "            path.reverse()\n",
    "            return path\n",
    "        \n",
    "        # Para cada nó vizinho do nó atual\n",
    "        for neighbor in graph.get(current_node, []): #percorre a lista de pontos\n",
    "            # Se o vizinho não foi visitado\n",
    "            if neighbor not in visited:\n",
    "                # Adiciona o vizinho à fila\n",
    "                queue.append(neighbor)\n",
    "                # Marca o vizinho como visitado\n",
    "                visited.add(neighbor)\n",
    "                # Registra o nó atual como pai do vizinho\n",
    "                parent[neighbor] = current_node\n",
    "\n",
    "    # Se não houver caminho entre o ponto de início e o ponto final\n",
    "    return None\n",
    "\n",
    "# Exemplo de uso\n",
    "#graph = {(0, 0): [(12, 12), (12, 22), (22, 12)], (12, 12): [(0, 0), (32, 36), (49, 49)], (12, 22): [(0, 0)], (22, 12): [(0, 0)], (35, 17): []}\n",
    "start = (0, 0)\n",
    "end = (49, 49)\n",
    "path = bfs(graph, start, end)\n",
    "if path:\n",
    "    print(\"Caminho encontrado:\", path)\n",
    "else:\n",
    "    print(\"Caminho nao encontrado.\")\n"
   ]
  }
 ],
 "metadata": {
  "language_info": {
   "name": "python"
  }
 },
 "nbformat": 4,
 "nbformat_minor": 2
}
