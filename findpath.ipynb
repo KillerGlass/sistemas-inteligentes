{
 "cells": [
  {
   "cell_type": "code",
   "execution_count": 1,
   "id": "c26dc500",
   "metadata": {},
   "outputs": [],
   "source": [
    "import random\n",
    "import numpy as np\n",
    "import matplotlib.pyplot as plt"
   ]
  },
  {
   "cell_type": "code",
   "execution_count": 2,
   "id": "8975ce9d",
   "metadata": {},
   "outputs": [],
   "source": [
    "def calculate_line(Point_p1: tuple, \n",
    "                   Point_p2: tuple, \n",
    "                   matrix: np.array):\n",
    "    \n",
    "    \"\"\"\n",
    "        Calculela line is valid\n",
    "        \n",
    "    args: \n",
    "        point_p1 : coordinates of the point 1\n",
    "        point_p2 : coordinates of the point 2\n",
    "\n",
    "    Returns:\n",
    "        _type_: list\n",
    "    \"\"\"\n",
    "    \n",
    "    line = []\n",
    "    x1 , y1 = Point_p1\n",
    "    x2, y2 = Point_p2\n",
    "    step = max(abs(y2-y1), abs(x2-x1) )\n",
    "    \n",
    "    xinc = (x2 - x1)/step\n",
    "    yinc = (y2 - y1)/step\n",
    "    x = x1\n",
    "    y = y1\n",
    "    while(x < x2): \n",
    "        \n",
    "        x = x + xinc\n",
    "        y = y + yinc \n",
    "        aux_x = round(x)\n",
    "        aux_y = round(y)\n",
    "        \n",
    "        if matrix[aux_x][aux_y] == 1:\n",
    "            line = []\n",
    "            break\n",
    "        \n",
    "        line.append((aux_x, aux_y))\n",
    "\n",
    "        \n",
    "    return line"
   ]
  },
  {
   "cell_type": "code",
   "execution_count": 3,
   "id": "f61c7379",
   "metadata": {},
   "outputs": [],
   "source": [
    "def fill_line(matrix: np.array,\n",
    "              line: list\n",
    "):\n",
    "\n",
    "    for x, y in line:\n",
    "        matrix[x][y] = 1\n",
    "\n",
    "    \n",
    "    return matrix"
   ]
  },
  {
   "cell_type": "code",
   "execution_count": 4,
   "id": "511288de",
   "metadata": {},
   "outputs": [],
   "source": [
    "def star_schema():\n",
    "    None"
   ]
  },
  {
   "cell_type": "code",
   "execution_count": 5,
   "id": "1fc873f5",
   "metadata": {},
   "outputs": [],
   "source": [
    "def calculate__route(matrix: np.array,\n",
    "                     point_initial: tuple,\n",
    "                     point_final: tuple,\n",
    "                     obs: list[tuple]\n",
    "):\n",
    "    line = []\n",
    "    ind = 0\n",
    "    if line <- calculate_line(point_initial, point_final , matrix) != []:\n",
    "        fill_line(matrix,line)\n",
    "    else:\n",
    "        while(point_initial != point_final):\n",
    "\n",
    "            while line == []:\n",
    "                 \n",
    "                star_schema()#ainda tem fazer\n",
    "\n",
    "            \n",
    "            matrix = fill_line(matrix, line)\n",
    "            point_initial = line[-1]\n",
    "            line = []\n",
    "\n",
    "\n",
    "    return matrix\n",
    "\n",
    "        \n"
   ]
  },
  {
   "cell_type": "code",
   "execution_count": 6,
   "id": "01aa5941",
   "metadata": {},
   "outputs": [],
   "source": [
    "def create_matrix(\n",
    "        size: int = 100, \n",
    "        size_obs: int = 20, \n",
    "        amount_obs: int = 50\n",
    "):\n",
    "\n",
    "    # Cria a matrix usando numpy\n",
    "    matrix = np.zeros((size, size), dtype=int)\n",
    "\n",
    "    # lista de obstaculos\n",
    "    obstacles = []\n",
    "\n",
    "    x_max = size - size_obs - 1\n",
    "    y_max = size - size_obs - 1\n",
    "    # loop de gerar obstaculos\n",
    "    num_obstacle = 0\n",
    "    while num_obstacle < amount_obs:\n",
    "    \n",
    "        # Gere coordenadas aleatórias do canto superior esquerdo dentro do intervalo válido\n",
    "        \n",
    "        x = random.randint(0, x_max)\n",
    "        y = random.randint(0, y_max)\n",
    "\n",
    "        # Crie um obstáculo como uma tupla de cantos superiores esquerdo e inferior direito\n",
    "        obstacle = ((x, y), (x + size_obs, y + size_obs))\n",
    "\n",
    "        # Varifica se a sobreposção\n",
    "        if matrix[x:x + size_obs + 1, y:y + size_obs + 1].sum() > 0:\n",
    "            continue\n",
    "\n",
    "        # Desenhe obstáculo na matrix usando fatiamento\n",
    "        matrix[x:x + size_obs + 1, y:y + size_obs + 1] = 1\n",
    "\n",
    "        num_obstacle += 1\n",
    "\n",
    "        # Adicione coordenadas de obstáculos à lista\n",
    "        obstacles.append(obstacle)\n",
    "\n",
    "    return matrix\n",
    "\n"
   ]
  },
  {
   "cell_type": "code",
   "execution_count": 7,
   "id": "f8bc41d3",
   "metadata": {},
   "outputs": [],
   "source": [
    "def main():\n",
    "\n",
    "  # Define o tamanho da matrix\n",
    "  size = 1000\n",
    "\n",
    "  # Define o tamanho dos obstaculos\n",
    "  size_obstacle = 100\n",
    "\n",
    "  matrix = create_matrix(size, size_obstacle, 50)\n",
    "\n",
    "  # plota a matiz\n",
    "  plt.imshow(matrix, cmap='gray')\n",
    "  plt.show()\n"
   ]
  },
  {
   "cell_type": "code",
   "execution_count": 8,
   "id": "929ed70d",
   "metadata": {},
   "outputs": [
    {
     "data": {
      "image/png": "[encoded data removed]",
      "text/plain": [
       "<Figure size 640x480 with 1 Axes>"
      ]
     },
     "metadata": {},
     "output_type": "display_data"
    }
   ],
   "source": [
    "main()"
   ]
  }
 ],
 "metadata": {
  "kernelspec": {
   "display_name": "Python 3 (ipykernel)",
   "language": "python",
   "name": "python3"
  },
  "language_info": {
   "codemirror_mode": {
    "name": "ipython",
    "version": 3
   },
   "file_extension": ".py",
   "mimetype": "text/x-python",
   "name": "python",
   "nbconvert_exporter": "python",
   "pygments_lexer": "ipython3",
   "version": "3.11.5"
  }
 },
 "nbformat": 4,
 "nbformat_minor": 5
}
