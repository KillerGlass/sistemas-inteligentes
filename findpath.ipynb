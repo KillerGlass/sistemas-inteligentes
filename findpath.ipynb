{
 "cells": [
  {
   "cell_type": "code",
   "execution_count": 6,
   "id": "c26dc500",
   "metadata": {},
   "outputs": [],
   "source": [
    "import random\n",
    "import numpy as np\n",
    "import matplotlib.pyplot as plt"
   ]
  },
  {
   "cell_type": "code",
   "execution_count": 11,
   "id": "f8bc41d3",
   "metadata": {},
   "outputs": [
    {
     "data": {
      "image/png": "[encoded data removed]",
      "text/plain": [
       "<Figure size 640x480 with 1 Axes>"
      ]
     },
     "metadata": {},
     "output_type": "display_data"
    }
   ],
   "source": [
    "\n",
    "# Define o tamanho da matriz\n",
    "tamanho = 1000\n",
    "\n",
    "# Define o tamanho dos obstaculos\n",
    "tamanho_obstaculo = 20\n",
    "\n",
    "# Cria a matriz usando numpy\n",
    "matriz = np.zeros((tamanho, tamanho), dtype=int)\n",
    "\n",
    "# lista de obstaculos\n",
    "obstaculos = []\n",
    "\n",
    "\n",
    "def se_sobrepoe(obstaculo, matriz):\n",
    "  \"\"\"\n",
    "  Verifica se um obstáculo se sobrepõe a outro obstáculo na matriz.\n",
    "\n",
    "   Argumentos:\n",
    "       obstaculo: Uma tupla representando os cantos superior esquerdo e inferior direito do obstáculo (x1, y1), (x2, y2).\n",
    "       matriz: O array NumPy que representa a matriz.\n",
    "\n",
    "   Retorna:\n",
    "       Verdadeiro se o obstáculo se sobrepõe a outro obstáculo; caso contrário, é falso.\n",
    "  \"\"\"\n",
    "  x1, y1 = obstaculo[0]\n",
    "  x2, y2 = obstaculo[1]\n",
    "  for i in range(x1, x2 + 1):\n",
    "    for j in range(y1, y2 + 1):\n",
    "      if matriz[i, j] == 1:\n",
    "        return True\n",
    "  return False\n",
    "\n",
    "num_obstaculos = 0\n",
    "# loop de gerar obstaculos\n",
    "while num_obstaculos < 50:\n",
    "  \n",
    "  # Gere coordenadas aleatórias do canto superior esquerdo dentro do intervalo válido\n",
    "  x_max = tamanho - tamanho_obstaculo - 1\n",
    "  y_max = tamanho - tamanho_obstaculo - 1\n",
    "  x = random.randint(0, x_max)\n",
    "  y = random.randint(0, y_max)\n",
    "\n",
    "  # Crie um obstáculo como uma tupla de cantos superiores esquerdo e inferior direito\n",
    "  obstaculo = ((x, y), (x + tamanho_obstaculo, y + tamanho_obstaculo))\n",
    "\n",
    "  # Varifica se a sobreposção\n",
    "  if se_sobrepoe(obstaculo, matriz):\n",
    "    continue\n",
    "\n",
    "  # Desenhe obstáculo na matriz usando fatiamento\n",
    "  matriz[x:x + tamanho_obstaculo + 1, y:y + tamanho_obstaculo + 1] = 1\n",
    "\n",
    "  num_obstaculos += 1\n",
    "\n",
    "  # Adicione coordenadas de obstáculos à lista\n",
    "  obstaculos.append(obstaculo)\n",
    "\n",
    "# plota a matiz\n",
    "plt.imshow(matriz, cmap='gray')\n",
    "plt.show()\n"
   ]
  }
 ],
 "metadata": {
  "kernelspec": {
   "display_name": "Python 3 (ipykernel)",
   "language": "python",
   "name": "python3"
  },
  "language_info": {
   "codemirror_mode": {
    "name": "ipython",
    "version": 3
   },
   "file_extension": ".py",
   "mimetype": "text/x-python",
   "name": "python",
   "nbconvert_exporter": "python",
   "pygments_lexer": "ipython3",
   "version": "3.11.5"
  }
 },
 "nbformat": 4,
 "nbformat_minor": 5
}
