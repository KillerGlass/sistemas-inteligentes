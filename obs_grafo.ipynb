{
  "cells": [
    {
      "cell_type": "markdown",
      "metadata": {
        "id": "C6gdYVPd6oMj"
      },
      "source": [
        "# Implementação dos grafos"
      ]
    },
    {
      "cell_type": "code",
      "execution_count": 63,
      "metadata": {
        "id": "UQSct3xI6mmb"
      },
      "outputs": [],
      "source": [
        "import heapq\n",
        "from math import ceil,floor\n",
        "import matplotlib.pyplot as plt\n",
        "import networkx as nx\n",
        "import numpy as np\n",
        "import random"
      ]
    },
    {
      "cell_type": "code",
      "execution_count": 64,
      "metadata": {
        "id": "mZQaN3Oj6mvH"
      },
      "outputs": [],
      "source": [
        "def fill_line(matriz: np.array,\n",
        "              line: list,\n",
        "              color: int = 100\n",
        "              ):\n",
        "\n",
        "    for x, y in line:\n",
        "        matriz[x][y] = color\n",
        "\n",
        "    return matriz"
      ]
    },
    {
      "cell_type": "code",
      "execution_count": 65,
      "metadata": {
        "id": "mLF7djRS6myK"
      },
      "outputs": [],
      "source": [
        "def calculate_line(Point_p1: tuple,\n",
        "                   Point_p2: tuple,\n",
        "                   matriz: np.array = None,\n",
        "                   list_segment: list = None,\n",
        "                   draw: bool = True\n",
        "                   ):\n",
        "\n",
        "    \"\"\"\n",
        "        Calculela line is valid\n",
        "\n",
        "    args:\n",
        "        point_p1 : coordinates of the point 1\n",
        "        point_p2 : coordinates of the point 2\n",
        "\n",
        "    Returns:\n",
        "        _type_: list\n",
        "    \"\"\"\n",
        "\n",
        "    line = []\n",
        "    x1 , y1 = Point_p1\n",
        "    x2, y2 = Point_p2\n",
        "\n",
        "    step = max(abs(y2-y1), abs(x2-x1) )\n",
        "    line = [(x1,y1), (x2,y2)]\n",
        "\n",
        "    xinc = (x2 - x1)/step\n",
        "    yinc = (y2 - y1)/step\n",
        "    x = x1\n",
        "    y = y1\n",
        "    while(x < x2 -1 or y < y2 - 1):\n",
        "        if not draw and len(line) > 2:\n",
        "            if (aux_x, aux_y) in list_segment:\n",
        "                #aux_x, aux_y, x1,y1,x2,y2)\n",
        "                line = []\n",
        "                break\n",
        "\n",
        "        x = x + xinc\n",
        "        y = y + yinc\n",
        "        aux_x = floor(x)\n",
        "        aux_y = floor(y)\n",
        "\n",
        "        line.append((aux_x, aux_y))\n",
        "\n",
        "    if draw:\n",
        "        fill_line(matriz,line)\n",
        "\n",
        "    return  line"
      ]
    },
    {
      "cell_type": "code",
      "execution_count": 66,
      "metadata": {
        "id": "FEjLn0zG7-gE"
      },
      "outputs": [],
      "source": [
        "def star_schema(point_target, matriz, obs, list_segments):\n",
        "\n",
        "    points_possibles = {}\n",
        "\n",
        "    for edges in obs:\n",
        "        index_p = -1\n",
        "        if (point_target in edges):\n",
        "            index_p = edges.index(point_target)\n",
        "\n",
        "        for ind  in range(len(edges)):\n",
        "\n",
        "            if index_p > -1:\n",
        "                if (index_p == ind or ind == index_p -2 or ind == index_p + 2):\n",
        "                    continue\n",
        "\n",
        "\n",
        "            if (line_point :=  calculate_line(point_target, edges[ind], matriz,list_segments, False)):\n",
        "                fill_line(matriz, line_point, 255)\n",
        "                points_possibles[edges[ind]] = line_point\n",
        "\n",
        "\n",
        "\n",
        "    return points_possibles\n"
      ]
    },
    {
      "cell_type": "code",
      "execution_count": 67,
      "metadata": {
        "id": "XcRBjAXE7-ag"
      },
      "outputs": [],
      "source": [
        "def get_edge_segments(matriz, edge:list[list], list_segment: list, dict_segments: dict):\n",
        "\n",
        "    p1 = ( calculate_line(edge[0], edge[1], matriz))\n",
        "    p2 = (calculate_line(edge[1], edge[2], matriz))\n",
        "    p3 = (calculate_line(edge[3], edge[2], matriz))\n",
        "    p4 = (calculate_line(edge[0], edge[3], matriz))\n",
        "    dict_segments[edge[0]] = {edge[1]: p1, edge[2]: p4}\n",
        "    dict_segments[edge[1]] = {edge[2]: p2}\n",
        "    dict_segments[edge[2]] = {edge[2]: p3}\n",
        "    \n",
        "    list_segment.extend(p1 + p2 + p3 + p4)\n",
        "\n",
        "    return list_segment"
      ]
    },
    {
      "cell_type": "code",
      "execution_count": 68,
      "metadata": {
        "id": "LXvQLzEv7-XY"
      },
      "outputs": [],
      "source": [
        "def calculate__route(matriz: np.array,\n",
        "                     point_initial: tuple,\n",
        "                     point_final: tuple,\n",
        "                     obs: list[list],\n",
        "                     list_segments: list,\n",
        "                     dict_segments: list\n",
        "                     ):\n",
        "\n",
        "    points_possibles = {}\n",
        "    line = []\n",
        "\n",
        "    if line := calculate_line(point_initial, point_final , matriz, list_segments, False):\n",
        "        fill_line(matriz,line,255)\n",
        "    else:\n",
        "        obs.append([point_final])\n",
        "        points_possibles = {point_initial : star_schema(point_initial, matriz, obs, list_segments)}\n",
        "        keys_possibels = set(points_possibles[point_initial].keys())\n",
        "        aux_keys = []\n",
        "        while( keys_possibels != set() ):\n",
        "\n",
        "            for point in keys_possibels:\n",
        "\n",
        "                points_possibles[point] = star_schema(point, matriz, obs, list_segments)\n",
        "                \n",
        "                if(point in dict_segments.keys()):\n",
        "                    points_possibles[point].update(dict_segments[point])\n",
        "                aux_keys.extend( list(points_possibles[point].keys()))\n",
        "                    \n",
        "\n",
        "\n",
        "            aux_keys = set(aux_keys)\n",
        "            keys_possibels = aux_keys.difference(set(points_possibles.keys()))\n",
        "            aux_keys = []\n",
        "\n",
        "\n",
        "    return points_possibles"
      ]
    },
    {
      "cell_type": "code",
      "execution_count": 69,
      "metadata": {
        "id": "NOXV0peI7-Rx"
      },
      "outputs": [],
      "source": [
        "def create_matriz(\n",
        "        tamanho: int = 100,\n",
        "        tam_obs: int = 20,\n",
        "        qtd_obs: int = 50,\n",
        "        point_init: tuple= None,\n",
        "        point_final: tuple= None\n",
        "):\n",
        "\n",
        "    # Cria a matriz usando numpy_min\n",
        "    matriz = np.zeros((tamanho, tamanho,3), dtype=int)\n",
        "\n",
        "    fill_line(matriz,[point_init, point_final],100)\n",
        "\n",
        "    # lista de obstaculos\n",
        "    obstaculos = []\n",
        "\n",
        "    x_valid = tamanho - tam_obs - 1\n",
        "    y_valid = tamanho - tam_obs - 1\n",
        "    # loop de gerar obstaculos\n",
        "    num_obstaculos = 0\n",
        "    list_segments = []\n",
        "    dict_segments = {}\n",
        "    while num_obstaculos < qtd_obs:\n",
        "\n",
        "        # Gere coordenadas aleatórias do canto superior esquerdo dentro do intervalo válido\n",
        "\n",
        "        x_min = random.randint(0, x_valid)\n",
        "        y_min = random.randint(0, y_valid)\n",
        "        x_max = x_min + tam_obs\n",
        "        y_max = y_min + tam_obs\n",
        "\n",
        "        # Varifica se a sobreposção\n",
        "        if matriz[x_min:x_max , y_min:y_max ].sum() > 0:\n",
        "            continue\n",
        "\n",
        "        # Desenhe obstáculo na matriz usando fatiamento\n",
        "        #matriz[x_min:x_max , y_min:y_max ] = 1\n",
        "\n",
        "        num_obstaculos += 1\n",
        "\n",
        "        # Crie um obstáculo como uma tupla de cantos superiores esquerdo e inferior direito\n",
        "        obstaculo = [(x_min,y_min),(x_min,y_max), (x_max, y_max), (x_max, y_min)]\n",
        "\n",
        "        # Adicione coordenadas de obstáculos à lista\n",
        "\n",
        "        obstaculos.append(obstaculo)\n",
        "\n",
        "        get_edge_segments(matriz,obstaculo, list_segments, dict_segments)\n",
        "\n",
        "    return matriz, list_segments, obstaculos, dict_segments"
      ]
    },
    {
      "cell_type": "code",
      "execution_count": 70,
      "metadata": {
        "id": "UxOcf0Dn83k6"
      },
      "outputs": [
        {
          "data": {
            "image/png": "[encoded data removed]",
            "text/plain": [
              "<Figure size 1000x1000 with 1 Axes>"
            ]
          },
          "metadata": {},
          "output_type": "display_data"
        }
      ],
      "source": [
        "def main():\n",
        "\n",
        "  # Define o tamanho da matriz\n",
        "  tamanho = 100\n",
        "\n",
        "  # Define o tamanho dos obstaculos\n",
        "  tamanho_obstaculo =10\n",
        "\n",
        "  point_1 = (0,0)\n",
        "  point_2 = (99,99)\n",
        "\n",
        "  matriz, list_segments , obs, dict_segments= create_matriz(tamanho, tamanho_obstaculo, 5, point_1, point_2)\n",
        "\n",
        "\n",
        "\n",
        "  points = calculate__route(matriz, point_1, point_2, obs, list_segments, dict_segments)\n",
        "\n",
        "  # plota a matiz\n",
        "  plt.figure(figsize=(10,10))\n",
        "  plt.imshow(matriz)\n",
        "  plt.show()\n",
        "\n",
        "main()"
      ]
    },
    {
      "cell_type": "code",
      "execution_count": 71,
      "metadata": {
        "colab": {
          "base_uri": "https://localhost:8080/",
          "height": 835
        },
        "id": "BV5e77d99QVV",
        "outputId": "437c0df2-3931-4f21-8f51-da69bd056ee3"
      },
      "outputs": [
        {
          "data": {
            "image/png": "[encoded data removed]",
            "text/plain": [
              "<Figure size 1000x1000 with 1 Axes>"
            ]
          },
          "metadata": {},
          "output_type": "display_data"
        }
      ],
      "source": [
        "# Define o tamanho da matriz\n",
        "tamanho = 20\n",
        "\n",
        "# Define o tamanho dos obstaculos\n",
        "tamanho_obstaculo = 8\n",
        "\n",
        "point_1 = (0,0)\n",
        "point_2 = (19,19)\n",
        "\n",
        "matriz, list_segments , obs, dict_segments = create_matriz(tamanho, tamanho_obstaculo, 2, point_1, point_2)\n",
        "\n",
        "\n",
        "\n",
        "points = calculate__route(matriz, point_1, point_2, obs, list_segments, dict_segments)\n",
        "\n",
        "\n",
        "# plota a matiz\n",
        "plt.figure(figsize=(10,10))\n",
        "plt.imshow(matriz)\n",
        "plt.show()"
      ]
    },
    {
      "cell_type": "code",
      "execution_count": 72,
      "metadata": {
        "colab": {
          "base_uri": "https://localhost:8080/"
        },
        "id": "1em8Y8qZwEFJ",
        "outputId": "7f475880-b597-4eaf-a136-0e5c5948fc4f"
      },
      "outputs": [
        {
          "data": {
            "text/plain": [
              "dict_keys([(0, 0), (10, 4), (2, 4), (2, 12), (19, 8), (11, 8), (10, 12), (19, 16), (11, 16), (19, 19)])"
            ]
          },
          "execution_count": 72,
          "metadata": {},
          "output_type": "execute_result"
        }
      ],
      "source": [
        "points.keys()"
      ]
    },
    {
      "cell_type": "code",
      "execution_count": 73,
      "metadata": {
        "id": "uK_lCW7U2e5E"
      },
      "outputs": [],
      "source": [
        "list_values = points.values()\n",
        "edgs = [x.keys() for x in list_values]"
      ]
    },
    {
      "cell_type": "code",
      "execution_count": 74,
      "metadata": {
        "colab": {
          "base_uri": "https://localhost:8080/"
        },
        "id": "Uggye_s34DqO",
        "outputId": "22036c4f-12d0-4c90-a493-2c6e76ff35ca"
      },
      "outputs": [
        {
          "data": {
            "text/plain": [
              "[dict_keys([(2, 4), (2, 12), (10, 4)]),\n",
              " dict_keys([(2, 4), (19, 8)]),\n",
              " dict_keys([(2, 12), (10, 12)]),\n",
              " dict_keys([(2, 4), (11, 8), (10, 12)]),\n",
              " dict_keys([(2, 4), (10, 4), (11, 8)]),\n",
              " dict_keys([(2, 4), (10, 4), (11, 16), (19, 16)]),\n",
              " dict_keys([(2, 12), (10, 4), (11, 8), (11, 16), (10, 12)]),\n",
              " dict_keys([(2, 4), (2, 12), (10, 12), (10, 4), (11, 16), (19, 8), (19, 19), (19, 16)]),\n",
              " dict_keys([(2, 4), (2, 12), (10, 12), (10, 4), (11, 8), (19, 16)]),\n",
              " dict_keys([(2, 4), (2, 12), (10, 12), (10, 4), (11, 8), (11, 16), (19, 16), (19, 8)])]"
            ]
          },
          "execution_count": 74,
          "metadata": {},
          "output_type": "execute_result"
        }
      ],
      "source": [
        "edgs"
      ]
    },
    {
      "cell_type": "code",
      "execution_count": 75,
      "metadata": {
        "id": "6JjsS0PiRdur"
      },
      "outputs": [],
      "source": [
        "def criar_novo_dicionario(dicionario_original):\n",
        "    novo_dicionario = {}\n",
        "\n",
        "    for chave_externa in dicionario_original:\n",
        "        chaves_internas = []\n",
        "\n",
        "        for chave_interna in dicionario_original[chave_externa]:\n",
        "            chaves_internas.append(chave_interna)\n",
        "\n",
        "        novo_dicionario[chave_externa] = chaves_internas\n",
        "\n",
        "    return novo_dicionario\n"
      ]
    },
    {
      "cell_type": "markdown",
      "metadata": {
        "id": "0e9Ao2rct8l_"
      },
      "source": [
        "## Dicionarios de vertices e arestas"
      ]
    },
    {
      "cell_type": "code",
      "execution_count": 76,
      "metadata": {
        "id": "KzJrTFKVUsuW"
      },
      "outputs": [],
      "source": [
        "novo_dicionario = criar_novo_dicionario(points)"
      ]
    },
    {
      "cell_type": "code",
      "execution_count": 77,
      "metadata": {
        "colab": {
          "base_uri": "https://localhost:8080/"
        },
        "id": "pPoMSk7TnSKp",
        "outputId": "d811c694-1e7a-4a13-aa92-461779f0b53a"
      },
      "outputs": [],
      "source": [
        "#novo_dicionario.pop((99,99))"
      ]
    },
    {
      "cell_type": "code",
      "execution_count": 78,
      "metadata": {
        "colab": {
          "base_uri": "https://localhost:8080/"
        },
        "id": "Hmy_hDlxnu4X",
        "outputId": "553d0b9f-11dc-4bbf-bbc5-9a84e8fda3db"
      },
      "outputs": [
        {
          "data": {
            "text/plain": [
              "{(0, 0): [(2, 4), (2, 12), (10, 4)],\n",
              " (10, 4): [(2, 4), (19, 8)],\n",
              " (2, 4): [(2, 12), (10, 12)],\n",
              " (2, 12): [(2, 4), (11, 8), (10, 12)],\n",
              " (19, 8): [(2, 4), (10, 4), (11, 8)],\n",
              " (11, 8): [(2, 4), (10, 4), (11, 16), (19, 16)],\n",
              " (10, 12): [(2, 12), (10, 4), (11, 8), (11, 16), (10, 12)],\n",
              " (19, 16): [(2, 4),\n",
              "  (2, 12),\n",
              "  (10, 12),\n",
              "  (10, 4),\n",
              "  (11, 16),\n",
              "  (19, 8),\n",
              "  (19, 19),\n",
              "  (19, 16)],\n",
              " (11, 16): [(2, 4), (2, 12), (10, 12), (10, 4), (11, 8), (19, 16)],\n",
              " (19, 19): [(2, 4),\n",
              "  (2, 12),\n",
              "  (10, 12),\n",
              "  (10, 4),\n",
              "  (11, 8),\n",
              "  (11, 16),\n",
              "  (19, 16),\n",
              "  (19, 8)]}"
            ]
          },
          "execution_count": 78,
          "metadata": {},
          "output_type": "execute_result"
        }
      ],
      "source": [
        "novo_dicionario"
      ]
    },
    {
      "cell_type": "code",
      "execution_count": 79,
      "metadata": {
        "colab": {
          "base_uri": "https://localhost:8080/"
        },
        "id": "YTfTJL0G7m8c",
        "outputId": "9187bf63-7318-4ea2-8c26-3483126f3bdb"
      },
      "outputs": [
        {
          "name": "stdout",
          "output_type": "stream",
          "text": [
            "(0, 0)\n",
            "(10, 4)\n",
            "(2, 4)\n",
            "(2, 12)\n",
            "(19, 8)\n",
            "(11, 8)\n",
            "(10, 12)\n",
            "(19, 16)\n",
            "(11, 16)\n",
            "(19, 19)\n"
          ]
        }
      ],
      "source": [
        "for chave_externa in novo_dicionario:\n",
        "  print(chave_externa)"
      ]
    },
    {
      "cell_type": "code",
      "execution_count": 80,
      "metadata": {
        "colab": {
          "base_uri": "https://localhost:8080/"
        },
        "id": "ffbtiUpp-clu",
        "outputId": "623eb555-161b-444c-9b46-2cedb9a64a66"
      },
      "outputs": [
        {
          "name": "stdout",
          "output_type": "stream",
          "text": [
            "[(0, 0), (10, 4), (2, 4), (2, 12), (19, 8), (11, 8), (10, 12), (19, 16), (11, 16), (19, 19)]\n"
          ]
        }
      ],
      "source": [
        "nodes = []\n",
        "for node in novo_dicionario:\n",
        "  nodes.append(node)\n",
        "print(nodes)"
      ]
    },
    {
      "cell_type": "code",
      "execution_count": 81,
      "metadata": {
        "colab": {
          "base_uri": "https://localhost:8080/"
        },
        "id": "G4D7kxCI_sYN",
        "outputId": "5e11ab9b-c699-4da5-da81-d6b15937d9f2"
      },
      "outputs": [
        {
          "name": "stdout",
          "output_type": "stream",
          "text": [
            "\n",
            "\n",
            "(0, 0) -> (2, 4)\n",
            "(0, 0) -> (2, 12)\n",
            "(0, 0) -> (10, 4)\n",
            "\n",
            "\n",
            "(10, 4) -> (2, 4)\n",
            "(10, 4) -> (19, 8)\n",
            "\n",
            "\n",
            "(2, 4) -> (2, 12)\n",
            "(2, 4) -> (10, 12)\n",
            "\n",
            "\n",
            "(2, 12) -> (2, 4)\n",
            "(2, 12) -> (11, 8)\n",
            "(2, 12) -> (10, 12)\n",
            "\n",
            "\n",
            "(19, 8) -> (2, 4)\n",
            "(19, 8) -> (10, 4)\n",
            "(19, 8) -> (11, 8)\n",
            "\n",
            "\n",
            "(11, 8) -> (2, 4)\n",
            "(11, 8) -> (10, 4)\n",
            "(11, 8) -> (11, 16)\n",
            "(11, 8) -> (19, 16)\n",
            "\n",
            "\n",
            "(10, 12) -> (2, 12)\n",
            "(10, 12) -> (10, 4)\n",
            "(10, 12) -> (11, 8)\n",
            "(10, 12) -> (11, 16)\n",
            "(10, 12) -> (10, 12)\n",
            "\n",
            "\n",
            "(19, 16) -> (2, 4)\n",
            "(19, 16) -> (2, 12)\n",
            "(19, 16) -> (10, 12)\n",
            "(19, 16) -> (10, 4)\n",
            "(19, 16) -> (11, 16)\n",
            "(19, 16) -> (19, 8)\n",
            "(19, 16) -> (19, 19)\n",
            "(19, 16) -> (19, 16)\n",
            "\n",
            "\n",
            "(11, 16) -> (2, 4)\n",
            "(11, 16) -> (2, 12)\n",
            "(11, 16) -> (10, 12)\n",
            "(11, 16) -> (10, 4)\n",
            "(11, 16) -> (11, 8)\n",
            "(11, 16) -> (19, 16)\n",
            "\n",
            "\n",
            "(19, 19) -> (2, 4)\n",
            "(19, 19) -> (2, 12)\n",
            "(19, 19) -> (10, 12)\n",
            "(19, 19) -> (10, 4)\n",
            "(19, 19) -> (11, 8)\n",
            "(19, 19) -> (11, 16)\n",
            "(19, 19) -> (19, 16)\n",
            "(19, 19) -> (19, 8)\n"
          ]
        }
      ],
      "source": [
        "for node in nodes:\n",
        "  print(\"\\n\")\n",
        "  for list_p in novo_dicionario[node]:\n",
        "    print(node, \"->\", list_p)"
      ]
    },
    {
      "cell_type": "code",
      "execution_count": 82,
      "metadata": {
        "colab": {
          "base_uri": "https://localhost:8080/",
          "height": 539
        },
        "id": "qZRpGB-2W29W",
        "outputId": "8e109ae9-7ad3-4d0c-81db-d0d36480a35e"
      },
      "outputs": [
        {
          "data": {
            "image/png": "[encoded data removed]",
            "text/plain": [
              "<Figure size 640x480 with 1 Axes>"
            ]
          },
          "metadata": {},
          "output_type": "display_data"
        }
      ],
      "source": [
        "\n",
        "def criar_grafo(dicionario_original):\n",
        "    G = nx.Graph()\n",
        "\n",
        "    # Adicionando nós ao grafo\n",
        "    for chave_externa in dicionario_original:\n",
        "        G.add_node(chave_externa)\n",
        "\n",
        "        for chave_interna in dicionario_original[chave_externa]:\n",
        "          #print(chave_externa, \"->\", chave_interna)\n",
        "          G.add_node(chave_interna)\n",
        "          G.add_edge(chave_externa, chave_interna)\n",
        "\n",
        "\n",
        "    return G\n",
        "\n",
        "def desenhar_grafo_como_matriz(G):\n",
        "    # Mapeamento de posição dos nós\n",
        "    pos = {}\n",
        "    for node in G.nodes():\n",
        "        pos[node] = (node[1], -node[0])  # Invertendo a coordenada y para coincidir com a orientação da matriz\n",
        "\n",
        "    # Desenhando o grafo\n",
        "    nx.draw(G, pos, with_labels=True, node_size=500, node_color='skyblue', font_size=8)\n",
        "    plt.title('Grafo dos Pontos na Matriz')\n",
        "    plt.show()\n",
        "\n",
        "# Teste da função\n",
        "G = criar_grafo(novo_dicionario)\n",
        "\n",
        "desenhar_grafo_como_matriz(G)\n"
      ]
    },
    {
      "cell_type": "code",
      "execution_count": null,
      "metadata": {
        "id": "mTOCxLSAm4ce"
      },
      "outputs": [],
      "source": []
    }
  ],
  "metadata": {
    "colab": {
      "provenance": []
    },
    "kernelspec": {
      "display_name": "Python 3",
      "name": "python3"
    },
    "language_info": {
      "codemirror_mode": {
        "name": "ipython",
        "version": 3
      },
      "file_extension": ".py",
      "mimetype": "text/x-python",
      "name": "python",
      "nbconvert_exporter": "python",
      "pygments_lexer": "ipython3",
      "version": "3.12.2"
    }
  },
  "nbformat": 4,
  "nbformat_minor": 0
}
